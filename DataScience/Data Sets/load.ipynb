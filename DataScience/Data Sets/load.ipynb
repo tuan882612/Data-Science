{
 "cells": [
  {
   "cell_type": "code",
   "execution_count": 53,
   "metadata": {},
   "outputs": [
    {
     "name": "stdout",
     "output_type": "stream",
     "text": [
      "['albania', 'austria', 'belgium', 'bulgaria', 'croatia', 'cyprus', 'czech republic', 'denmark', 'estonia', 'finland', 'france', 'germany', 'greece', 'hungary', 'iceland', 'ireland', 'italy', 'latvia', 'liechtenstein', 'lithuania', 'luxembourg', 'macedonia', 'malta', 'montenegro', 'netherlands', 'norway', 'poland', 'portugal', 'romania', 'serbia', 'slovakia', 'slovenia', 'spain', 'sweden', 'switzerland', 'turkey', 'united kingdom']\n"
     ]
    }
   ],
   "source": [
    "import numpy as np\n",
    "import pandas as pd\n",
    "import json\n",
    "\n",
    "df = pd.read_csv('states.csv')['Country']\n",
    "\n",
    "arr = np.array(df)\n",
    "data = []\n",
    "\n",
    "for i in arr:\n",
    "    data.append(i.lower())\n",
    "\n",
    "print(data)\n",
    "\n",
    "with open('temp.json', 'w', encoding='utf-8') as f:\n",
    "    json.dump(data, f, ensure_ascii=False, indent=4)"
   ]
  },
  {
   "cell_type": "code",
   "execution_count": null,
   "metadata": {},
   "outputs": [],
   "source": []
  },
  {
   "cell_type": "code",
   "execution_count": 77,
   "metadata": {},
   "outputs": [
    {
     "name": "stdout",
     "output_type": "stream",
     "text": [
      "['U.S States: California', 'California', 'U.S States', '233/38', 'ESFP', '3w2']\n",
      "['U.S States: New Hampshire', 'New Hampshire', 'U.S States', '84/2', 'INTP', '5w6']\n",
      "['U.S States: New York', 'New York', 'U.S States', '187/21', 'ENTJ', '3w4']\n",
      "['U.S States: Texas', 'Texas', 'U.S States', '203/44', 'ESTJ', '8w7']\n",
      "['U.S States: Florida', 'Florida', 'U.S States', '220/31', 'ESFP', '7w8']\n",
      "['U.S States: Colorado', 'Colorado', 'U.S States', '120/16', 'ENTP', '7w8']\n",
      "['U.S States: Pennsylvania', 'Pennsylvania', 'U.S States', '60/20', 'ISTP', '5w6']\n",
      "['U.S States: New Mexico', 'New Mexico', 'U.S States', '57/6', 'INTP', '5w6']\n",
      "['U.S States: Washington', 'Washington', 'U.S States', '142/15', 'INTP', '4w5']\n",
      "['U.S States: Minnesota', 'Minnesota', 'U.S States', '67/5', 'ENFJ', '6w5']\n",
      "['U.S States: Maine', 'Maine', 'U.S States', '87/15', 'ISTP', '9w1']\n",
      "['U.S States: Wyoming', 'Wyoming', 'U.S States', '62/10', 'ISFJ', '6w5']\n",
      "['U.S States: Louisiana', 'Louisiana', 'U.S States', '76/6', 'ISFP', '7w6']\n",
      "['U.S States: Hawaii', 'Hawaii', 'U.S States', '162/7', 'ESFP', '9w8']\n",
      "['U.S States: Rhode Island', 'Rhode Island', 'U.S States', '54/0', 'ISTJ', '1w9']\n",
      "['U.S States: North Carolina', 'North Carolina', 'U.S States', '44/7', 'ESFJ', '6w7']\n",
      "['U.S States: New Jersey', 'New Jersey', 'U.S States', '70/18', 'ESFJ', '6w7']\n",
      "['U.S States: Virginia', 'Virginia', 'U.S States', '59/5', 'ESTJ', '8w9']\n",
      "['U.S States: Missouri', 'Missouri', 'U.S States', '45/5', 'ESTJ', '6w5']\n",
      "['U.S States: Mississippi', 'Mississippi', 'U.S States', '50/4', 'ESTJ', '8w9']\n",
      "['U.S States: Maryland', 'Maryland', 'U.S States', '67/16', 'ENTJ', '1w2']\n",
      "['U.S States: Kentucky', 'Kentucky', 'U.S States', '42/2', 'ESFJ', '1w2']\n",
      "['U.S States: Illinois', 'Illinois', 'U.S States', '47/6', 'ISTJ', '6w5']\n",
      "['U.S States: Utah', 'Utah', 'U.S States', '63/4', 'ESFJ', '6w7']\n",
      "['U.S States: North Dakota', 'North Dakota', 'U.S States', '42/3', 'ISFJ', '9w1']\n",
      "['U.S States: Oregon', 'Oregon', 'U.S States', '108/12', 'INFP', '4w5']\n",
      "['U.S States: Oklahoma', 'Oklahoma', 'U.S States', '48/4', 'ISTJ', '6w7']\n",
      "['U.S States: South Carolina', 'South Carolina', 'U.S States', '52/5', 'ESFJ', '2w1']\n",
      "['U.S States: South Dakota', 'South Dakota', 'U.S States', '27/1', 'ISFJ', '6w5']\n",
      "['U.S States: Tennessee', 'Tennessee', 'U.S States', '78/8', 'ESFJ', '2w3']\n",
      "['U.S States: Vermont', 'Vermont', 'U.S States', '72/5', 'ISFP', '9w1']\n",
      "['U.S States: Nevada', 'Nevada', 'U.S States', '75/7', 'ESTP', '7w8']\n",
      "['U.S States: Nebraska', 'Nebraska', 'U.S States', '27/0', 'ISFJ', '2w1']\n",
      "['U.S States: Montana', 'Montana', 'U.S States', '38/0', 'ISTP', '6w7']\n",
      "['U.S States: West Virginia', 'West Virginia', 'U.S States', '56/13', 'ISTP', '6w7']\n",
      "['U.S States: Wisconsin', 'Wisconsin', 'U.S States', '62/7', 'ESFJ', '6w7']\n",
      "['U.S States: Michigan', 'Michigan', 'U.S States', '64/6', 'ISTP', '6w5']\n",
      "['U.S States: Massachusetts', 'Massachusetts', 'U.S States', '97/26', 'ENTJ', '3w4']\n",
      "['U.S States: Kansas', 'Kansas', 'U.S States', '38/6', 'ISTJ', '1w9']\n",
      "['U.S States: Iowa', 'Iowa', 'U.S States', '44/1', 'ISFJ', '9w1']\n",
      "['U.S States: Ohio', 'Ohio', 'U.S States', '54/14', 'ESFJ', '6w5']\n",
      "['U.S States: Indiana', 'Indiana', 'U.S States', '45/3', 'ISTP', '8w9']\n",
      "['U.S States: Idaho', 'Idaho', 'U.S States', '34/3', 'ISTJ', '9w1']\n",
      "['U.S States: Georgia', 'Georgia', 'U.S States', '68/12', 'ESTP', '8w7']\n",
      "['U.S States: Delaware', 'Delaware', 'U.S States', '32/5', 'ISTJ', '6w5']\n",
      "['U.S States: Connecticut', 'Connecticut', 'U.S States', '59/4', 'ISFJ', '6w7']\n",
      "['U.S States: Arkansas', 'Arkansas', 'U.S States', '42/5', 'ESTJ', '6w5']\n",
      "['U.S States: Arizona', 'Arizona', 'U.S States', '58/14', 'ESTP', '7w8']\n",
      "['U.S States: Alaska', 'Alaska', 'U.S States', '144/11', 'ISTP', '9w8']\n",
      "['U.S States: Alabama', 'Alabama', 'U.S States', '98/51', 'ESTP', '7w8']\n"
     ]
    }
   ],
   "source": [
    "import pandas as pd\n",
    "\n",
    "df = pd.read_csv(\"load.csv\")['state']\n",
    "\n",
    "for i in range(6,len(df)+1,6):\n",
    "    print(list(df[i-6:i]))"
   ]
  },
  {
   "cell_type": "code",
   "execution_count": null,
   "metadata": {},
   "outputs": [],
   "source": [
    "hash = {}\n",
    "names = []\n",
    "\n",
    "for i in range(len(df)):\n",
    "    names.append(df['Country'][i])\n",
    "\n",
    "for i in range(len(df)):\n",
    "\n",
    "    header = list(df.loc[df['Country'] == names[i]])\n",
    "    data = list(df.loc[i])\n",
    "\n",
    "    extro = 0\n",
    "    intro = 0\n",
    "\n",
    "    for j in zip(header, data):\n",
    "        col = j[0]\n",
    "        num = j[1]\n",
    "\n",
    "        if col[0] == 'E':\n",
    "            extro += num\n",
    "\n",
    "        elif col[0] == 'I':\n",
    "            intro += num\n",
    "\n",
    "    if extro > intro:\n",
    "        hash[names[i]] = 'extroverted'\n",
    "\n",
    "    else:\n",
    "        hash[names[i]] = 'introverted'\n",
    "\n",
    "hash"
   ]
  },
  {
   "cell_type": "code",
   "execution_count": 238,
   "metadata": {},
   "outputs": [],
   "source": [
    "import pandas as pd\n",
    "import numpy as np\n",
    "import json\n",
    "\n",
    "def format(data):\n",
    "    arr = []\n",
    "    \n",
    "    for i in range(len(data)):\n",
    "        temp = dict(data.iloc[i])\n",
    "        hash = {}\n",
    "        \n",
    "        if temp['country'] != '-' or temp['state'] != '-':\n",
    "            for key, val in temp.items():\n",
    "                key = key.lower()\n",
    "\n",
    "                if val != '-':\n",
    "                    if type(val) != str:\n",
    "                        val = int(val)\n",
    "                            \n",
    "                        if val >= 5 or key == 'age':\n",
    "                            hash[key] = val\n",
    "                    else:\n",
    "                        val = val.lower()\n",
    "                        hash[key] = val\n",
    "                \n",
    "            arr.append(hash)\n",
    "\n",
    "    with open('./format_v2.json', 'w', encoding='utf-8') as f:\n",
    "        json.dump(arr, f, ensure_ascii=False, indent=4)   \n",
    "            \n",
    "                \n",
    "df = pd.read_csv(\"big5_data.csv\")\n",
    "df1 = pd.read_csv(\"big5_data1.csv\")\n",
    "\n",
    "#df 17  df1 23\n",
    "\n",
    "parameters = ['gender', 'age', 'marstatus', 'country', 'state']\n",
    "\n",
    "questions = list(df.columns[17:])\n",
    "sample = df[parameters+questions][:].fillna('-')\n",
    "\n",
    "questions1 = list(df1.columns[23:])\n",
    "sample1 = df1[parameters+questions1][:].fillna('-')\n",
    "\n",
    "final = format(sample)\n",
    "final"
   ]
  },
  {
   "cell_type": "code",
   "execution_count": 239,
   "metadata": {},
   "outputs": [
    {
     "data": {
      "text/plain": [
       "dict_values([0       q_6\n",
       "1      q_22\n",
       "2      q_23\n",
       "3      q_39\n",
       "4      q_40\n",
       "       ... \n",
       "691       -\n",
       "692       -\n",
       "693       -\n",
       "694       -\n",
       "695       -\n",
       "Name: index, Length: 696, dtype: object, 0                             Accept people as they are.\n",
       "1        Act impulsively when something is bothering me.\n",
       "2      Act like different people in different situati...\n",
       "3                                         Adjust easily.\n",
       "4                           Admire a really clever scam.\n",
       "                             ...                        \n",
       "691                                                    -\n",
       "692                                                    -\n",
       "693                                                    -\n",
       "694                                                    -\n",
       "695                                                 Item\n",
       "Name: item, Length: 696, dtype: object])"
      ]
     },
     "execution_count": 239,
     "metadata": {},
     "output_type": "execute_result"
    }
   ],
   "source": [
    "key = pd.read_csv(\"big5_key.csv\")\n",
    "data = dict(key[['index','item']].fillna('-'))\n",
    "data.values()"
   ]
  },
  {
   "cell_type": "code",
   "execution_count": 11,
   "metadata": {},
   "outputs": [],
   "source": [
    "import pandas as pd\n",
    "import json\n",
    "\n",
    "data = pd.read_csv(\"load.csv\")\n",
    "hash = {}\n",
    "\n",
    "for i in data['code']:\n",
    "    temp = i.split(':')\n",
    "    hash[temp[0]] = temp[1].strip(\" \")\n",
    "    \n",
    "with open('./c2_key.json', 'w', encoding='utf-8') as f:\n",
    "    json.dump(hash, f, ensure_ascii=False, indent=4)                                                                  "
   ]
  },
  {
   "cell_type": "code",
   "execution_count": 17,
   "metadata": {},
   "outputs": [
    {
     "ename": "AttributeError",
     "evalue": "'list' object has no attribute 'keys'",
     "output_type": "error",
     "traceback": [
      "\u001b[1;31m---------------------------------------------------------------------------\u001b[0m",
      "\u001b[1;31mAttributeError\u001b[0m                            Traceback (most recent call last)",
      "\u001b[1;32mc:\\Users\\tuan8\\Documents\\VS Code Python Workspace\\Data-Science\\DataScience\\Data Sets\\load.ipynb Cell 8'\u001b[0m in \u001b[0;36m<cell line: 9>\u001b[1;34m()\u001b[0m\n\u001b[0;32m      <a href='vscode-notebook-cell:/c%3A/Users/tuan8/Documents/VS%20Code%20Python%20Workspace/Data-Science/DataScience/Data%20Sets/load.ipynb#ch0000008?line=0'>1</a>\u001b[0m c1 \u001b[39m=\u001b[39m json\u001b[39m.\u001b[39mload(\u001b[39mopen\u001b[39m(\n\u001b[0;32m      <a href='vscode-notebook-cell:/c%3A/Users/tuan8/Documents/VS%20Code%20Python%20Workspace/Data-Science/DataScience/Data%20Sets/load.ipynb#ch0000008?line=1'>2</a>\u001b[0m         \u001b[39m'\u001b[39m\u001b[39m./c1_key.json\u001b[39m\u001b[39m'\u001b[39m\n\u001b[0;32m      <a href='vscode-notebook-cell:/c%3A/Users/tuan8/Documents/VS%20Code%20Python%20Workspace/Data-Science/DataScience/Data%20Sets/load.ipynb#ch0000008?line=2'>3</a>\u001b[0m         ,encoding\u001b[39m=\u001b[39m\u001b[39m\"\u001b[39m\u001b[39mutf8\u001b[39m\u001b[39m\"\u001b[39m))\u001b[39m.\u001b[39mkeys()\n\u001b[0;32m      <a href='vscode-notebook-cell:/c%3A/Users/tuan8/Documents/VS%20Code%20Python%20Workspace/Data-Science/DataScience/Data%20Sets/load.ipynb#ch0000008?line=4'>5</a>\u001b[0m c2 \u001b[39m=\u001b[39m json\u001b[39m.\u001b[39mload(\u001b[39mopen\u001b[39m(\n\u001b[0;32m      <a href='vscode-notebook-cell:/c%3A/Users/tuan8/Documents/VS%20Code%20Python%20Workspace/Data-Science/DataScience/Data%20Sets/load.ipynb#ch0000008?line=5'>6</a>\u001b[0m         \u001b[39m'\u001b[39m\u001b[39m./c2_key.json\u001b[39m\u001b[39m'\u001b[39m\n\u001b[0;32m      <a href='vscode-notebook-cell:/c%3A/Users/tuan8/Documents/VS%20Code%20Python%20Workspace/Data-Science/DataScience/Data%20Sets/load.ipynb#ch0000008?line=6'>7</a>\u001b[0m         ,encoding\u001b[39m=\u001b[39m\u001b[39m\"\u001b[39m\u001b[39mutf8\u001b[39m\u001b[39m\"\u001b[39m))\u001b[39m.\u001b[39mkeys()\n\u001b[1;32m----> <a href='vscode-notebook-cell:/c%3A/Users/tuan8/Documents/VS%20Code%20Python%20Workspace/Data-Science/DataScience/Data%20Sets/load.ipynb#ch0000008?line=8'>9</a>\u001b[0m c2 \u001b[39m=\u001b[39m json\u001b[39m.\u001b[39;49mload(\u001b[39mopen\u001b[39;49m(\n\u001b[0;32m     <a href='vscode-notebook-cell:/c%3A/Users/tuan8/Documents/VS%20Code%20Python%20Workspace/Data-Science/DataScience/Data%20Sets/load.ipynb#ch0000008?line=9'>10</a>\u001b[0m         \u001b[39m'\u001b[39;49m\u001b[39m./temp.json\u001b[39;49m\u001b[39m'\u001b[39;49m\n\u001b[0;32m     <a href='vscode-notebook-cell:/c%3A/Users/tuan8/Documents/VS%20Code%20Python%20Workspace/Data-Science/DataScience/Data%20Sets/load.ipynb#ch0000008?line=10'>11</a>\u001b[0m         ,encoding\u001b[39m=\u001b[39;49m\u001b[39m\"\u001b[39;49m\u001b[39mutf8\u001b[39;49m\u001b[39m\"\u001b[39;49m))\u001b[39m.\u001b[39;49mkeys()\n\u001b[0;32m     <a href='vscode-notebook-cell:/c%3A/Users/tuan8/Documents/VS%20Code%20Python%20Workspace/Data-Science/DataScience/Data%20Sets/load.ipynb#ch0000008?line=12'>13</a>\u001b[0m error \u001b[39m=\u001b[39m []\n\u001b[0;32m     <a href='vscode-notebook-cell:/c%3A/Users/tuan8/Documents/VS%20Code%20Python%20Workspace/Data-Science/DataScience/Data%20Sets/load.ipynb#ch0000008?line=14'>15</a>\u001b[0m \u001b[39mfor\u001b[39;00m i \u001b[39min\u001b[39;00m c2:\n",
      "\u001b[1;31mAttributeError\u001b[0m: 'list' object has no attribute 'keys'"
     ]
    }
   ],
   "source": [
    "c1 = json.load(open(\n",
    "        './c1_key.json'\n",
    "        ,encoding=\"utf8\")).keys()\n",
    "\n",
    "c2 = json.load(open(\n",
    "        './c2_key.json'\n",
    "        ,encoding=\"utf8\")).keys()\n",
    "\n",
    "c2 = json.load(open(\n",
    "        './temp.json'\n",
    "        ,encoding=\"utf8\")).keys()\n",
    "\n",
    "error = []\n",
    "\n",
    "for i in c2:\n"
   ]
  }
 ],
 "metadata": {
  "kernelspec": {
   "display_name": "Python 3.9.12 ('base')",
   "language": "python",
   "name": "python3"
  },
  "language_info": {
   "codemirror_mode": {
    "name": "ipython",
    "version": 3
   },
   "file_extension": ".py",
   "mimetype": "text/x-python",
   "name": "python",
   "nbconvert_exporter": "python",
   "pygments_lexer": "ipython3",
   "version": "3.9.12"
  },
  "orig_nbformat": 4,
  "vscode": {
   "interpreter": {
    "hash": "3dc7926bad1c66c6ff414608229734cbdb8744467de7c4fc0184870dbacc16d9"
   }
  }
 },
 "nbformat": 4,
 "nbformat_minor": 2
}
