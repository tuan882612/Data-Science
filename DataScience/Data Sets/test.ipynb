{
 "cells": [
  {
   "cell_type": "code",
   "execution_count": 7,
   "metadata": {},
   "outputs": [
    {
     "data": {
      "text/html": [
       "<div>\n",
       "<style scoped>\n",
       "    .dataframe tbody tr th:only-of-type {\n",
       "        vertical-align: middle;\n",
       "    }\n",
       "\n",
       "    .dataframe tbody tr th {\n",
       "        vertical-align: top;\n",
       "    }\n",
       "\n",
       "    .dataframe thead th {\n",
       "        text-align: right;\n",
       "    }\n",
       "</style>\n",
       "<table border=\"1\" class=\"dataframe\">\n",
       "  <thead>\n",
       "    <tr style=\"text-align: right;\">\n",
       "      <th></th>\n",
       "      <th>{'input_text': {'table': {'column_header': ['image_size'</th>\n",
       "      <th>'background'</th>\n",
       "      <th>'associated_acts'</th>\n",
       "      <th>'alias'</th>\n",
       "      <th>'article_title'</th>\n",
       "      <th>'past_members'</th>\n",
       "      <th>'years_active'</th>\n",
       "      <th>'current_members'</th>\n",
       "      <th>'image'</th>\n",
       "      <th>'label'</th>\n",
       "      <th>...</th>\n",
       "      <th>but the band enjoyed a comeback starting in 1985 and experienced even greater success with album oriented rock -lrb- aor -rrb- hits and hard rock ballads into the 1990s .\\nwith `` jupiter 's darling '' -lrb- 2004 -rrb-</th>\n",
       "      <th>`` red velvet car '' -lrb- 2010 -rrb-</th>\n",
       "      <th>and `` fanatic '' -lrb- 2012 -rrb-</th>\n",
       "      <th>heart made a return to its hard rock and acoustic folk roots .\\nto date</th>\n",
       "      <th>heart has sold over 35 million records worldwide</th>\n",
       "      <th>including over 22.5 million in album sales in the u.s. .\\nthe group was ranked number 57 on vh1 's `` 100 greatest artists of hard rock '' .\\nwith top 10 albums on the `` billboard '' album chart in the 1970s</th>\n",
       "      <th>1980s</th>\n",
       "      <th>1990s</th>\n",
       "      <th>and 2010s</th>\n",
       "      <th>heart is among the most commercially enduring hard rock bands in history .\\nthey were inducted into the rock and roll hall of fame in 2013 .\\n\"}</th>\n",
       "    </tr>\n",
       "  </thead>\n",
       "  <tbody>\n",
       "  </tbody>\n",
       "</table>\n",
       "<p>0 rows × 72 columns</p>\n",
       "</div>"
      ],
      "text/plain": [
       "Empty DataFrame\n",
       "Columns: [{'input_text': {'table': {'column_header': ['image_size',  'background',  'associated_acts',  'alias',  'article_title',  'past_members',  'years_active',  'current_members',  'image',  'label',  'name',  'caption',  'origin',  'genre'],  'row_number': [1,  1,  1.1,  1.2,  1.3,  1.4,  1.5,  1.6,  1.7,  1.8,  1.9,  1.10,  1.11,  1],  'content': ['250',  'group_or_band',  'the lovemongers alias',  'the -- 72 -rrb- hocus pocus -lrb- 1972 -- 73 -rrb- army -lrb- 1967-1969 -rrb- white heart -lrb- 1969',  'heart -lrb- band -rrb-\\n',  'see : former members',  '1973 -- present',  'ann shair dan rothchild wilson nancy wilson ben smith craig bartock debbie',  'heart at the beacon theater ,  2012.jpg',  'mushroom legacy ,  emi ,  capitol ,  shout ! factory ,  ,  sovereign ,  sony legacy epic ,  sony bmg ,  portrait , ',  'heart',  'sisters in new york city ,  2012 nancy and ann wilson at the beacon theater',  '-lrb- -lrb- band based in -rrb- vancouver ,  british columbia ,  members canada -lrb- 1973 -- 76 -rrb- from -rrb- seattle ,  washington ,  usa',  'rock ,  folk rock ,  hard rock']},  'context': 'heart -lrb- band -rrb-\\n'},  'target_text': \"heart is an american rock band that first found success in canada and later in the united states and worldwide .\\nover the group 's four-decade history it has had three primary lineups ,  with the constant center of the group since 1974 being sisters ann wilson -lrb- lead singer -rrb- and nancy wilson -lrb- guitarist -rrb- .\\nheart rose to fame in the mid-1970s with music influenced by hard rock and heavy metal as well as folk music .\\ntheir popularity declined in the early 1980s ,  but the band enjoyed a comeback starting in 1985 and experienced even greater success with album oriented rock -lrb- aor -rrb- hits and hard rock ballads into the 1990s .\\nwith `` jupiter 's darling '' -lrb- 2004 -rrb- ,  `` red velvet car '' -lrb- 2010 -rrb- ,  and `` fanatic '' -lrb- 2012 -rrb- ,  heart made a return to its hard rock and acoustic folk roots .\\nto date ,  heart has sold over 35 million records worldwide ,  including over 22.5 million in album sales in the u.s. .\\nthe group was ranked number 57 on vh1 's `` 100 greatest artists of hard rock '' .\\nwith top 10 albums on the `` billboard '' album chart in the 1970s ,  1980s ,  1990s ,  and 2010s ,  heart is among the most commercially enduring hard rock bands in history .\\nthey were inducted into the rock and roll hall of fame in 2013 .\\n\"}]\n",
       "Index: []\n",
       "\n",
       "[0 rows x 72 columns]"
      ]
     },
     "execution_count": 7,
     "metadata": {},
     "output_type": "execute_result"
    }
   ],
   "source": [
    "import numpy as np\n",
    "import pandas as pd\n",
    "\n",
    "df = pd.read_csv('data.txt')\n",
    "df"
   ]
  },
  {
   "cell_type": "code",
   "execution_count": null,
   "metadata": {},
   "outputs": [],
   "source": []
  }
 ],
 "metadata": {
  "interpreter": {
   "hash": "3dc7926bad1c66c6ff414608229734cbdb8744467de7c4fc0184870dbacc16d9"
  },
  "kernelspec": {
   "display_name": "Python 3.9.7 ('base')",
   "language": "python",
   "name": "python3"
  },
  "language_info": {
   "codemirror_mode": {
    "name": "ipython",
    "version": 3
   },
   "file_extension": ".py",
   "mimetype": "text/x-python",
   "name": "python",
   "nbconvert_exporter": "python",
   "pygments_lexer": "ipython3",
   "version": "3.9.12"
  },
  "orig_nbformat": 4
 },
 "nbformat": 4,
 "nbformat_minor": 2
}
